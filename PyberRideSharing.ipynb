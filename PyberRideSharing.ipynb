{
 "cells": [
  {
   "cell_type": "code",
   "execution_count": 525,
   "metadata": {},
   "outputs": [],
   "source": [
    "%matplotlib notebook"
   ]
  },
  {
   "cell_type": "code",
   "execution_count": 22,
   "metadata": {},
   "outputs": [],
   "source": [
    "# Dependencies and Setup\n",
    "import pandas as pd\n",
    "import numpy as np\n",
    "import matplotlib\n",
    "import matplotlib.pyplot as plt # for Chart and plot\n",
    "import math # for floor function \n",
    "\n",
    "plt.close(\"all\")\n",
    "\n",
    "# File to Load \n",
    "city_data_to_load = \"raw_data/city_data.csv\"\n",
    "ride_data_to_load = \"raw_data/ride_data.csv\"\n",
    "\n",
    "# Read City and Ride Data File and store into Pandas Data Frames\n",
    "city_data = pd.read_csv(city_data_to_load)\n",
    "ride_data = pd.read_csv(ride_data_to_load)\n",
    "\n",
    "# # Combine the data into a single dataset\n",
    "city_ride_data_complete = pd.merge(city_data, ride_data, how=\"inner\", on=[\"city\", \"city\"])\n",
    "# city_ride_data_complete"
   ]
  },
  {
   "cell_type": "code",
   "execution_count": 23,
   "metadata": {
    "scrolled": true
   },
   "outputs": [],
   "source": [
    "# Calculating $ Displaying Average Fare, date, Total Number of Rides, Total Number of Drivers based on City\n",
    "rides_analysis = city_ride_data_complete\n",
    "rides_analysis['rides'] = 0 \n",
    "rides_analysis['drivers'] = 0\n",
    "rides_analysis = rides_analysis.groupby(['city']).agg({'fare':'mean'\n",
    "                                   ,'date':'min'\n",
    "                                   , 'rides':'size'\n",
    "                                   ,'driver_count':'max'               \n",
    "                                   ,'type':'min'})\n",
    "rides_analysis = rides_analysis.rename(columns = {'fare' :'Average Fare'\n",
    "                                 ,'rides' : 'Total Number of Rides'\n",
    "                                 , 'driver_count' : 'Total Number of Drivers'\n",
    "                                 , 'type' : 'City Type'\n",
    "                                })\n",
    "# rides_analysis"
   ]
  },
  {
   "cell_type": "code",
   "execution_count": 24,
   "metadata": {},
   "outputs": [],
   "source": [
    "# filter on Urban\n",
    "Urban = rides_analysis[rides_analysis[\"City Type\"].notnull() & (rides_analysis[\"City Type\"] == \"Urban\")]\n",
    "# len(Urban)\n",
    "# Urban"
   ]
  },
  {
   "cell_type": "code",
   "execution_count": 25,
   "metadata": {},
   "outputs": [],
   "source": [
    "# filter on Suburban\n",
    "Suburban = rides_analysis[rides_analysis[\"City Type\"].notnull() & (rides_analysis[\"City Type\"] == \"Suburban\")]\n",
    "# len(Suburban)\n",
    "# Suburban"
   ]
  },
  {
   "cell_type": "code",
   "execution_count": 26,
   "metadata": {},
   "outputs": [],
   "source": [
    "# Filter on Rural\n",
    "Rural = rides_analysis[rides_analysis[\"City Type\"].notnull() & (rides_analysis[\"City Type\"] == \"Rural\")]\n",
    "# len(Rural)\n",
    "# Rural"
   ]
  },
  {
   "cell_type": "code",
   "execution_count": 27,
   "metadata": {},
   "outputs": [
    {
     "data": {
      "text/plain": [
       "20.093157894736848"
      ]
     },
     "execution_count": 27,
     "metadata": {},
     "output_type": "execute_result"
    }
   ],
   "source": [
    "# Find the max and min of the 'Average Fare' to plot on y axis\n",
    "rides_fare_average_min = rides_analysis[\"Average Fare\"].min()\n",
    "rides_fare_average_min"
   ]
  },
  {
   "cell_type": "code",
   "execution_count": 28,
   "metadata": {},
   "outputs": [
    {
     "data": {
      "text/plain": [
       "43.278333333333336"
      ]
     },
     "execution_count": 28,
     "metadata": {},
     "output_type": "execute_result"
    }
   ],
   "source": [
    "# Find the max of the 'Average Fare' to plot on y axis\n",
    "rides_fare_average_max = rides_analysis[\"Average Fare\"].max()\n",
    "rides_fare_average_max"
   ]
  },
  {
   "cell_type": "code",
   "execution_count": 29,
   "metadata": {},
   "outputs": [
    {
     "data": {
      "text/plain": [
       "3"
      ]
     },
     "execution_count": 29,
     "metadata": {},
     "output_type": "execute_result"
    }
   ],
   "source": [
    "# Find the max and min of the 'Total Number of Rides' to plot on x axis\n",
    "Total_Number_of_Rides_min = rides_analysis[\"Total Number of Rides\"].min()\n",
    "Total_Number_of_Rides_min"
   ]
  },
  {
   "cell_type": "code",
   "execution_count": 30,
   "metadata": {},
   "outputs": [
    {
     "data": {
      "text/plain": [
       "39"
      ]
     },
     "execution_count": 30,
     "metadata": {},
     "output_type": "execute_result"
    }
   ],
   "source": [
    "# Find the max and min of the 'Total Number of Rides' to plot on x axis\n",
    "Total_Number_of_Rides_max = rides_analysis[\"Total Number of Rides\"].max()\n",
    "Total_Number_of_Rides_max"
   ]
  },
  {
   "cell_type": "code",
   "execution_count": 31,
   "metadata": {},
   "outputs": [
    {
     "data": {
      "text/plain": [
       "array([ 0,  5, 10, 15, 20, 25, 30, 35, 40], dtype=int64)"
      ]
     },
     "execution_count": 31,
     "metadata": {},
     "output_type": "execute_result"
    }
   ],
   "source": [
    "# Create a list from 0 to 40 with each step being 0.1 higher than the last\n",
    "x_axis = np.arange(0, Total_Number_of_Rides_max+6, 5)\n",
    "x_axis"
   ]
  },
  {
   "cell_type": "code",
   "execution_count": 32,
   "metadata": {},
   "outputs": [
    {
     "data": {
      "text/plain": [
       "array([15, 20, 25, 30, 35, 40, 45])"
      ]
     },
     "execution_count": 32,
     "metadata": {},
     "output_type": "execute_result"
    }
   ],
   "source": [
    "# Create a list from 0 to 40 with each step being 0.1 higher than the last\n",
    "y_axis = np.arange(math.floor( rides_fare_average_min ) - 5, math.floor(rides_fare_average_max) + 6, 5)\n",
    "y_axis"
   ]
  },
  {
   "cell_type": "code",
   "execution_count": 33,
   "metadata": {},
   "outputs": [
    {
     "data": {
      "image/png": "[encoded data removed]",
      "text/plain": [
       "<matplotlib.figure.Figure at 0x199904ac470>"
      ]
     },
     "metadata": {},
     "output_type": "display_data"
    }
   ],
   "source": [
    "# Bubble Plot\n",
    "plt.figure()\n",
    "Urban = plt.scatter(Urban[\"Average Fare\"],Urban[\"Total Number of Rides\"], marker=\"o\", facecolors=\"lightcoral\", edgecolors=\"black\",\n",
    "            s = x_axis, alpha=0.75, label=\"Urban\")\n",
    "Suburban = plt.scatter(Suburban[\"Average Fare\"],Suburban[\"Total Number of Rides\"], marker=\"o\", facecolors=\"lightblue\", edgecolors=\"black\",\n",
    "            s = x_axis, alpha=0.75, label=\"Suburban\")\n",
    "Rural = plt.scatter(Rural[\"Average Fare\"],Rural[\"Total Number of Rides\"], marker=\"o\", facecolors=\"gold\", edgecolors=\"black\",\n",
    "            s = x_axis, alpha=0.75, label=\"Rural\")\n",
    "# interactive(True)\n",
    "# plt.show()"
   ]
  },
  {
   "cell_type": "code",
   "execution_count": 34,
   "metadata": {},
   "outputs": [
    {
     "data": {
      "text/plain": [
       "<matplotlib.legend.Legend at 0x1999044c898>"
      ]
     },
     "execution_count": 34,
     "metadata": {},
     "output_type": "execute_result"
    },
    {
     "data": {
      "image/png": "[encoded data removed]",
      "text/plain": [
       "<matplotlib.figure.Figure at 0x199903584e0>"
      ]
     },
     "metadata": {},
     "output_type": "display_data"
    }
   ],
   "source": [
    "# Create a legend for the chart\n",
    "plt.legend(handles=[Urban,Suburban,Rural], loc=\"best\")"
   ]
  },
  {
   "cell_type": "code",
   "execution_count": 35,
   "metadata": {},
   "outputs": [
    {
     "data": {
      "text/plain": [
       "Text(0,0.5,'Average Fare ($)')"
      ]
     },
     "execution_count": 35,
     "metadata": {},
     "output_type": "execute_result"
    },
    {
     "data": {
      "image/png": "[encoded data removed]",
      "text/plain": [
       "<matplotlib.figure.Figure at 0x19990467978>"
      ]
     },
     "metadata": {},
     "output_type": "display_data"
    }
   ],
   "source": [
    "# Add labels to the x and y axes\n",
    "plt.title(\"Pyber Rides Sharing (2016)\")\n",
    "plt.xlabel(\"Total Number of Rides Per City\")\n",
    "plt.ylabel(\"Average Fare ($)\")"
   ]
  },
  {
   "cell_type": "code",
   "execution_count": 36,
   "metadata": {},
   "outputs": [],
   "source": [
    "# Making the first Pie : % total \"Average Fare\" by \"City Type\"\n"
   ]
  },
  {
   "cell_type": "code",
   "execution_count": 37,
   "metadata": {},
   "outputs": [
    {
     "data": {
      "text/plain": [
       "<matplotlib.figure.Figure at 0x1999086e2e8>"
      ]
     },
     "metadata": {},
     "output_type": "display_data"
    }
   ],
   "source": [
    "# Calculating $ Displaying Average Fare, date, Total Number of Rides, Total Number of Drivers based on City Type\n",
    "plt.figure()\n",
    "\n",
    "pie_analysis = city_ride_data_complete\n",
    "pie_analysis['rides'] = 0 \n",
    "pie_analysis['drivers'] = 0\n",
    "pie_analysis = pie_analysis.groupby(['type']).agg({\"fare\":\"mean\"\n",
    "                                   ,\"date\":\"min\"\n",
    "                                   , \"rides\":\"size\"\n",
    "                                   ,\"driver_count\":\"max\"               \n",
    "                                   ,\"type\":\"min\"})\n",
    "pie_analysis = pie_analysis.rename(columns = {\"fare\" :\"Average Fare\"\n",
    "                                 ,\"rides\" : \"Total Number of Rides\"\n",
    "                                 , \"driver_count\" : \"Total Number of Drivers\"\n",
    "                                 , \"type\" : \"City Type\"\n",
    "                                })\n",
    "# pie_analysis"
   ]
  },
  {
   "cell_type": "code",
   "execution_count": 38,
   "metadata": {},
   "outputs": [],
   "source": [
    "#\n",
    "total_Avg_Fare = pie_analysis[\"Average Fare\"].sum()\n",
    "# total_Fare\n",
    "total_urban_fare = pie_analysis[pie_analysis[\"City Type\"].notnull() & (pie_analysis[\"City Type\"] == \"Urban\")]\n",
    "# total_urban_fare\n",
    "total_Suburban_fare = pie_analysis[pie_analysis[\"City Type\"].notnull() & (pie_analysis[\"City Type\"] == \"Suburban\")]\n",
    "# total_Suburban_fare\n",
    "total_Rural_fare = pie_analysis[pie_analysis[\"City Type\"].notnull() & (pie_analysis[\"City Type\"] == \"Rural\")]\n",
    "# total_Rural_fare\n",
    "percent_urban_fare = total_urban_fare[\"Average Fare\"] * 100 /total_Avg_Fare\n",
    "# percent_urban_fare\n",
    "percent_Suburban_fare = total_Suburban_fare[\"Average Fare\"] * 100 /total_Avg_Fare\n",
    "# percent_Suburban_fare\n",
    "percent_Rural_fare = total_Rural_fare[\"Average Fare\"] * 100 /total_Avg_Fare\n",
    "# percent_Rural_fare\n"
   ]
  },
  {
   "cell_type": "code",
   "execution_count": 39,
   "metadata": {},
   "outputs": [],
   "source": [
    "# Labels for the sections of our pie chart\n",
    "\n",
    "labels = [\"Urban\", \"Suburban\", \"Rural\"]\n",
    "\n",
    "# The values of each section of the pie chart\n",
    "sizes = [percent_urban_fare, percent_Suburban_fare, percent_Rural_fare]\n",
    "\n",
    "# The colors of each section of the pie chart\n",
    "colors = [\"lightcoral\", \"lightskyblue\", \"gold\"]\n",
    "\n",
    "# Tells matplotlib to seperate the \"Python\" section from the others\n",
    "explode = (0.1, 0, 0)"
   ]
  },
  {
   "cell_type": "code",
   "execution_count": 40,
   "metadata": {},
   "outputs": [
    {
     "data": {
      "text/plain": [
       "Text(0.5,1,'% of Total Fares by City Type')"
      ]
     },
     "execution_count": 40,
     "metadata": {},
     "output_type": "execute_result"
    },
    {
     "data": {
      "image/png": "[encoded data removed]",
      "text/plain": [
       "<matplotlib.figure.Figure at 0x19990839f28>"
      ]
     },
     "metadata": {},
     "output_type": "display_data"
    }
   ],
   "source": [
    "# Create the pie chart based upon the values above\n",
    "# Automatically find the percentages of each part of the pie chart\n",
    "plt.pie(sizes, explode=explode, labels=labels, colors=colors, autopct=\"%1.1f%%\", shadow=True, startangle=90)\n",
    "plt.title(\"% of Total Fares by City Type\")"
   ]
  },
  {
   "cell_type": "code",
   "execution_count": 41,
   "metadata": {},
   "outputs": [],
   "source": [
    "# Tells matplotlib that we want a pie chart with equal axes.\n",
    "# plt.axis(\"equal\")"
   ]
  },
  {
   "cell_type": "code",
   "execution_count": 42,
   "metadata": {},
   "outputs": [],
   "source": [
    "# making second pie : % of \"Total Number of Rides\" by \"City Type\""
   ]
  },
  {
   "cell_type": "code",
   "execution_count": 43,
   "metadata": {},
   "outputs": [
    {
     "data": {
      "text/plain": [
       "<matplotlib.figure.Figure at 0x199908d7f98>"
      ]
     },
     "metadata": {},
     "output_type": "display_data"
    }
   ],
   "source": [
    "# Calculating $ Displaying Average Fare, date, Total Number of Rides, Total Number of Drivers based on City Type\n",
    "plt.figure()\n",
    "\n",
    "pie_analysis = city_ride_data_complete\n",
    "pie_analysis['rides'] = 0 \n",
    "pie_analysis['drivers'] = 0\n",
    "pie_analysis = pie_analysis.groupby(['type']).agg({'fare':'mean'\n",
    "                                   ,'date':'min'\n",
    "                                   , 'rides':'size'\n",
    "                                   ,'driver_count':'max'               \n",
    "                                   ,'type':'min'})\n",
    "pie_analysis = pie_analysis.rename(columns = {'fare' :'Average Fare'\n",
    "                                 ,'rides' : 'Total Number of Rides'\n",
    "                                 , 'driver_count' : 'Total Number of Drivers'\n",
    "                                 , 'type' : 'City Type'\n",
    "                                })\n",
    "# pie_analysis"
   ]
  },
  {
   "cell_type": "code",
   "execution_count": 44,
   "metadata": {},
   "outputs": [],
   "source": [
    "#\n",
    "total_rides = pie_analysis[\"Total Number of Rides\"].sum()\n",
    "total_urban_rides = pie_analysis[pie_analysis[\"City Type\"].notnull() & (pie_analysis[\"City Type\"] == \"Urban\")]\n",
    "total_Suburban_rides = pie_analysis[pie_analysis[\"City Type\"].notnull() & (pie_analysis[\"City Type\"] == \"Suburban\")]\n",
    "total_Rural_rides = pie_analysis[pie_analysis[\"City Type\"].notnull() & (pie_analysis[\"City Type\"] == \"Rural\")]\n",
    "#\n",
    "percent_urban_rides = total_urban_rides[\"Total Number of Rides\"] * 100 /total_rides\n",
    "percent_Suburban_rides = total_Suburban_rides[\"Total Number of Rides\"] * 100 /total_rides\n",
    "percent_Rural_rides = total_Rural_rides[\"Total Number of Rides\"] * 100 /total_rides\n",
    "# percent_Rural_rides"
   ]
  },
  {
   "cell_type": "code",
   "execution_count": 45,
   "metadata": {},
   "outputs": [],
   "source": [
    "# Labels for the sections of our pie chart\n",
    "\n",
    "labels = [\"Urban\", \"Suburban\", \"Rural\"]\n",
    "\n",
    "# The values of each section of the pie chart\n",
    "sizes = [percent_urban_rides, percent_Suburban_rides, percent_Rural_rides]\n",
    "\n",
    "# The colors of each section of the pie chart\n",
    "colors = [\"lightcoral\", \"lightskyblue\", \"gold\"]\n",
    "\n",
    "# Tells matplotlib to seperate the \"Python\" section from the others\n",
    "explode = (0.1, 0, 0)"
   ]
  },
  {
   "cell_type": "code",
   "execution_count": 46,
   "metadata": {},
   "outputs": [
    {
     "data": {
      "text/plain": [
       "Text(0.5,1,'% of Total Rides by City Type')"
      ]
     },
     "execution_count": 46,
     "metadata": {},
     "output_type": "execute_result"
    },
    {
     "data": {
      "image/png": "[encoded data removed]",
      "text/plain": [
       "<matplotlib.figure.Figure at 0x1999095c320>"
      ]
     },
     "metadata": {},
     "output_type": "display_data"
    }
   ],
   "source": [
    "# Create the pie chart based upon the values above\n",
    "# Automatically find the percentages of each part of the pie chart\n",
    "plt.pie(sizes, explode=explode, labels=labels, colors=colors, autopct=\"%1.1f%%\", shadow=True, startangle=90)\n",
    "plt.title(\"% of Total Rides by City Type\")"
   ]
  },
  {
   "cell_type": "code",
   "execution_count": 47,
   "metadata": {},
   "outputs": [],
   "source": [
    "# Tells matplotlib that we want a pie chart with equal axes\n",
    "# plt.axis(\"equal\")\n",
    "# plt.savefig(\"images/PyPies.png\")\n",
    "# interactive(False)\n",
    "# plt.show()"
   ]
  },
  {
   "cell_type": "code",
   "execution_count": 48,
   "metadata": {},
   "outputs": [],
   "source": [
    "# Making the third pie % of \" total drivers\" by \"City Type\""
   ]
  },
  {
   "cell_type": "code",
   "execution_count": 49,
   "metadata": {},
   "outputs": [
    {
     "data": {
      "text/plain": [
       "<matplotlib.figure.Figure at 0x1999194d390>"
      ]
     },
     "metadata": {},
     "output_type": "display_data"
    }
   ],
   "source": [
    "# Calculating $ Displaying Average Fare, date, Total Number of Rides, Total Number of Drivers based on City Type\n",
    "plt.figure()\n",
    "\n",
    "pie_analysis_driver = city_ride_data_complete\n",
    "pie_analysis_driver['rides'] = 0 \n",
    "pie_analysis_driver['drivers'] = 0\n",
    "pie_analysis_driver = pie_analysis_driver.groupby(['type']).agg({\"fare\":\"mean\"\n",
    "                                   ,\"date\":\"min\"\n",
    "                                   , \"rides\":\"size\"\n",
    "                                   ,\"driver_count\":\"max\"               \n",
    "                                   ,\"type\":\"min\"})\n",
    "pie_analysis_driver = pie_analysis_driver.rename(columns = {\"fare\" :\"Average Fare\"\n",
    "                                 ,\"rides\" : \"Total Number of Rides\"\n",
    "                                 , \"driver_count\" : \"Total Number of Drivers\"\n",
    "                                 , \"type\" : \"City Type\"\n",
    "                                })\n",
    "# pie_analysis_driver"
   ]
  },
  {
   "cell_type": "code",
   "execution_count": 50,
   "metadata": {},
   "outputs": [],
   "source": [
    "#\n",
    "total_drivers = pie_analysis_driver[\"Total Number of Drivers\"].sum()\n",
    "# total_drivers\n",
    "total_urban_drivers = pie_analysis_driver[pie_analysis_driver[\"City Type\"].notnull() & (pie_analysis_driver[\"City Type\"] == \"Urban\")]\n",
    "# total_urban_drivers\n",
    "total_Suburban_drivers = pie_analysis_driver[pie_analysis_driver[\"City Type\"].notnull() & (pie_analysis_driver[\"City Type\"] == \"Suburban\")]\n",
    "# total_Suburban_drivers\n",
    "total_Rural_drivers = pie_analysis_driver[pie_analysis_driver[\"City Type\"].notnull() & (pie_analysis_driver[\"City Type\"] == \"Rural\")]\n",
    "# total_Rural_drivers\n",
    "#\n",
    "percent_urban_drivers = total_urban_drivers[\"Total Number of Drivers\"] * 100 /total_drivers\n",
    "# percent_urban_drivers\n",
    "percent_Suburban_drivers = total_Suburban_drivers[\"Total Number of Drivers\"] * 100 /total_drivers\n",
    "# percent_Suburban_drivers\n",
    "percent_Rural_drivers = total_Rural_drivers[\"Total Number of Drivers\"] * 100 /total_drivers\n",
    "# percent_Rural_drivers"
   ]
  },
  {
   "cell_type": "code",
   "execution_count": 51,
   "metadata": {},
   "outputs": [],
   "source": [
    "# Labels for the sections of our pie chart\n",
    "\n",
    "labels = [\"Urban\", \"Suburban\", \"Rural\"]\n",
    "\n",
    "# The values of each section of the pie chart\n",
    "sizes = [percent_urban_drivers, percent_Suburban_drivers, percent_Rural_drivers]\n",
    "\n",
    "# The colors of each section of the pie chart\n",
    "colors = [\"lightcoral\", \"lightskyblue\", \"gold\"]\n",
    "\n",
    "# Tells matplotlib to seperate the \"Python\" section from the others\n",
    "explode = (0.1, 0, 0)"
   ]
  },
  {
   "cell_type": "code",
   "execution_count": 52,
   "metadata": {},
   "outputs": [
    {
     "data": {
      "text/plain": [
       "Text(0.5,1,'% of Total Drivers by City Type')"
      ]
     },
     "execution_count": 52,
     "metadata": {},
     "output_type": "execute_result"
    },
    {
     "data": {
      "image/png": "[encoded data removed]",
      "text/plain": [
       "<matplotlib.figure.Figure at 0x199908ec550>"
      ]
     },
     "metadata": {},
     "output_type": "display_data"
    }
   ],
   "source": [
    "# Create the pie chart based upon the values above\n",
    "# Automatically find the percentages of each part of the pie chart\n",
    "plt.pie(sizes, explode=explode, labels=labels, colors=colors, autopct=\"%1.1f%%\", shadow=True, startangle=90)\n",
    "plt.title(\"% of Total Drivers by City Type\")"
   ]
  },
  {
   "cell_type": "code",
   "execution_count": 53,
   "metadata": {},
   "outputs": [],
   "source": [
    "# Tells matplotlib that we want a pie chart with equal axes\n",
    "# plt.axis(\"equal\")"
   ]
  },
  {
   "cell_type": "code",
   "execution_count": 1183,
   "metadata": {},
   "outputs": [],
   "source": [
    "# plt.close(figure)\n",
    "# plt.close(\"all\")"
   ]
  }
 ],
 "metadata": {
  "kernelspec": {
   "display_name": "Python 3",
   "language": "python",
   "name": "python3"
  },
  "language_info": {
   "codemirror_mode": {
    "name": "ipython",
    "version": 3
   },
   "file_extension": ".py",
   "mimetype": "text/x-python",
   "name": "python",
   "nbconvert_exporter": "python",
   "pygments_lexer": "ipython3",
   "version": "3.6.4"
  }
 },
 "nbformat": 4,
 "nbformat_minor": 2
}
